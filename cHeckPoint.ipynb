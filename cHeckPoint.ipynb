{
 "cells": [
  {
   "cell_type": "code",
   "execution_count": 1,
   "metadata": {},
   "outputs": [],
   "source": [
    "from math import e, factorial"
   ]
  },
  {
   "cell_type": "code",
   "execution_count": 2,
   "metadata": {},
   "outputs": [],
   "source": [
    "def binomial(k, n, p):\n",
    "  num_eventos = factorial(n) \n",
    "  num_exitos = factorial(k) * factorial(n - k) \n",
    "  exitos_fracaso=pow(p, k) * pow(1 - p, (n - k)) \n",
    "\n",
    "  probabilidad = (num_eventos / num_exitos) * exitos_fracaso \n",
    "\n",
    "  return probabilidad"
   ]
  },
  {
   "attachments": {},
   "cell_type": "markdown",
   "metadata": {},
   "source": [
    "## k veces q queremos calcular q ocurra el exito\n",
    "## n cantidad de ensayos realizados\n",
    "## p probabilidad de exito"
   ]
  },
  {
   "attachments": {},
   "cell_type": "markdown",
   "metadata": {},
   "source": [
    "6) Un jugador tiene dos dados, lanza los dos dados a la vez y suma el resultado obtenido de los dados lanzados, ¿cuál es la suma resultante más probable al momento de lanzar los dos dados? R/ 7 </p>\n",
    "<p>7) Dado un mazo de cartas de la baraja francesa, conocida como de poker, ¿Cuál es la probabilidad de sacar dos cartas rojas si no se hace una reposición de la carta luego de sacar la primera? *La baraja francesa es un conjunto de naipes o cartas, formado por 52 unidades repartidas en cuatro palos: corazones, diamantes, tréboles y picas. No tienen comodínes. R/ 0.245 </p>\n",
    "<p>8) Se tienen 4 canicas blancas y 4 canicas negras dentro de un frasco, luego de manera aleatoria se sacan dos canicas, una detrás de la otra. ¿Cuál es la probabilidad de que ambas sean de un mismo color?R/0.428"
   ]
  },
  {
   "cell_type": "code",
   "execution_count": null,
   "metadata": {},
   "outputs": [],
   "source": []
  },
  {
   "cell_type": "code",
   "execution_count": 2,
   "metadata": {},
   "outputs": [],
   "source": [
    "def poisson(lambda_, k): \n",
    "     probabilidad = (pow(e, -lambda_) * pow(lambda_, k)) / factorial(k)\n",
    "     \n",
    "     return probabilidad"
   ]
  },
  {
   "cell_type": "code",
   "execution_count": null,
   "metadata": {},
   "outputs": [],
   "source": [
    "## lambda promedio de exitos, es necesario convertir a las unidades objetivo, ejemplo / hrs a min \n",
    "## k veces q queremos calcular q ocurra el exito, numero de exitos"
   ]
  },
  {
   "attachments": {},
   "cell_type": "markdown",
   "metadata": {},
   "source": [
    "9) En una cola en el banco, llaman en promedio 2 personas cada 8 minutos. ¿Cuál es la probabilidad de que en esos 8 minutos llamen a 1 persona o más personas? R/ 0.864"
   ]
  },
  {
   "cell_type": "code",
   "execution_count": 26,
   "metadata": {},
   "outputs": [
    {
     "data": {
      "text/plain": [
       "0.8646647167633873"
      ]
     },
     "execution_count": 26,
     "metadata": {},
     "output_type": "execute_result"
    }
   ],
   "source": [
    "## 9.\n",
    "## 2 pers cada 8 min\n",
    "## lambda 2 \n",
    "## k >= 1\n",
    "1 - poisson(2,0) "
   ]
  },
  {
   "cell_type": "code",
   "execution_count": 3,
   "metadata": {},
   "outputs": [],
   "source": [
    "def hipergeometrica(N, r, n, x):\n",
    "  rx = factorial(r)/(factorial(x) * factorial(r - x))\n",
    "  Nrnx = factorial(N - r)/(factorial(n - x) * factorial((N - r) - (n - x)))\n",
    "  Nn = factorial(N)/(factorial(n) * factorial(N - n))\n",
    "  probabilidad = (rx * Nrnx)/Nn\n",
    "\n",
    "  return probabilidad"
   ]
  },
  {
   "cell_type": "code",
   "execution_count": null,
   "metadata": {},
   "outputs": [],
   "source": [
    "## N poblacion total \n",
    "## r casos exitosos dentro de la poblacion\n",
    "## n muestra q yo tomo\n",
    "## x casos exitosos dentro de la muestra"
   ]
  },
  {
   "attachments": {},
   "cell_type": "markdown",
   "metadata": {},
   "source": [
    "10) En un control de calidad, se tiene que de 65 productos seleccionados, 2 poseen fallas de fabricación, ¿Cuál es la probabilidad de encontrar un producto con fallas si se seleccionan 5 productos? R/0.144"
   ]
  },
  {
   "cell_type": "code",
   "execution_count": 13,
   "metadata": {},
   "outputs": [
    {
     "data": {
      "text/plain": [
       "0.14423076923076922"
      ]
     },
     "execution_count": 13,
     "metadata": {},
     "output_type": "execute_result"
    }
   ],
   "source": [
    "## 10.\n",
    "hipergeometrica(65,2,5,1)"
   ]
  }
 ],
 "metadata": {
  "kernelspec": {
   "display_name": "Python 3",
   "language": "python",
   "name": "python3"
  },
  "language_info": {
   "codemirror_mode": {
    "name": "ipython",
    "version": 3
   },
   "file_extension": ".py",
   "mimetype": "text/x-python",
   "name": "python",
   "nbconvert_exporter": "python",
   "pygments_lexer": "ipython3",
   "version": "3.11.1"
  },
  "orig_nbformat": 4
 },
 "nbformat": 4,
 "nbformat_minor": 2
}
