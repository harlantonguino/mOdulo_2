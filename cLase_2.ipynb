{
 "cells": [
  {
   "cell_type": "code",
   "execution_count": 1,
   "metadata": {},
   "outputs": [],
   "source": [
    "import pandas as pd\n",
    "import numpy as np"
   ]
  },
  {
   "attachments": {},
   "cell_type": "markdown",
   "metadata": {},
   "source": [
    "1. Lanza una moneda al aire 10 veces, ¿cuantos resultados posibles forman parte del espacio muestral?.<br>"
   ]
  },
  {
   "cell_type": "code",
   "execution_count": 12,
   "metadata": {},
   "outputs": [
    {
     "name": "stdout",
     "output_type": "stream",
     "text": [
      "1024\n"
     ]
    }
   ],
   "source": [
    "eMm = 2 ## espacio muestral moneda = cara o sello\n",
    "nOportunidades = 10 ## numero de lamzaientos \n",
    "\n",
    "espacio_muestral = eMm ** nOportunidades\n",
    "\n",
    "print(espacio_muestral)"
   ]
  },
  {
   "attachments": {},
   "cell_type": "markdown",
   "metadata": {},
   "source": [
    "2. En un aeropuerto se tiene a 10 pasajeros esperando en la sala de preembarque, la polícia debe controlar a 3 de ellos. ¿Cuantas combinaciones posibles se pueden obtener?."
   ]
  },
  {
   "cell_type": "code",
   "execution_count": 2,
   "metadata": {},
   "outputs": [],
   "source": [
    "def factorial(n):\n",
    "    if n == 0:\n",
    "        return 1\n",
    "    else:\n",
    "        while n >= 0:\n",
    "            return n*factorial(n-1)"
   ]
  },
  {
   "attachments": {},
   "cell_type": "markdown",
   "metadata": {},
   "source": [
    "## COMBINACIONES"
   ]
  },
  {
   "cell_type": "code",
   "execution_count": 4,
   "metadata": {},
   "outputs": [],
   "source": [
    "def combinaciones (N, k):\n",
    "    return factorial(N) // (factorial(k) * factorial(N - k))"
   ]
  },
  {
   "cell_type": "code",
   "execution_count": 5,
   "metadata": {},
   "outputs": [
    {
     "data": {
      "text/plain": [
       "120"
      ]
     },
     "execution_count": 5,
     "metadata": {},
     "output_type": "execute_result"
    }
   ],
   "source": [
    "combinaciones(10, 3)"
   ]
  },
  {
   "attachments": {},
   "cell_type": "markdown",
   "metadata": {},
   "source": [
    "## PERMUTACIONES<br>\n",
    "\n",
    "tengo $N$ elementos de los cuales quiero elegir $k$ para ordenar\n",
    "\n",
    "$$permutaciones = \\frac{N!}{(N - k)!}$$"
   ]
  },
  {
   "cell_type": "code",
   "execution_count": 6,
   "metadata": {},
   "outputs": [],
   "source": [
    "def permutaciones(N, k):\n",
    "    return factorial(N) // factorial(N - k)"
   ]
  },
  {
   "cell_type": "code",
   "execution_count": 7,
   "metadata": {},
   "outputs": [
    {
     "data": {
      "text/plain": [
       "720"
      ]
     },
     "execution_count": 7,
     "metadata": {},
     "output_type": "execute_result"
    }
   ],
   "source": [
    "permutaciones(10, 3)"
   ]
  },
  {
   "attachments": {},
   "cell_type": "markdown",
   "metadata": {},
   "source": [
    "3. La Agencia Nacional de Seguridad Vial realizó una investigación para saber si los conductores están usando sus cinturones de seguridad. Los datos muestrales fueron los siguientes:<br>"
   ]
  },
  {
   "cell_type": "code",
   "execution_count": 2,
   "metadata": {},
   "outputs": [],
   "source": [
    "dic = {'Region': ['Norte', 'Noreste', 'Sur', 'Centro'],\n",
    "       'SI': [148, 162, 296, 252],\n",
    "        'NO': [52, 54, 74, 48]}"
   ]
  },
  {
   "cell_type": "code",
   "execution_count": 19,
   "metadata": {},
   "outputs": [],
   "source": [
    "dF = pd.DataFrame(dic)"
   ]
  },
  {
   "cell_type": "code",
   "execution_count": 10,
   "metadata": {},
   "outputs": [
    {
     "name": "stderr",
     "output_type": "stream",
     "text": [
      "C:\\Users\\hArLaN_YeZiD\\AppData\\Local\\Temp\\ipykernel_9044\\2029302001.py:1: FutureWarning: The frame.append method is deprecated and will be removed from pandas in a future version. Use pandas.concat instead.\n",
      "  dF = dF.append({'Region': 'Total',\n"
     ]
    }
   ],
   "source": [
    "#dF = dF.append({'Region': 'Total',\n",
    "#            'SI': dF.SI.sum(),\n",
    "#             'NO': dF.NO.sum()}, ignore_index=True)"
   ]
  },
  {
   "attachments": {},
   "cell_type": "markdown",
   "metadata": {},
   "source": [
    "a) ¿Qué metodo cree que se utilizo para asignar probabilidades?.<br>"
   ]
  },
  {
   "attachments": {},
   "cell_type": "markdown",
   "metadata": {},
   "source": [
    "Clasica"
   ]
  },
  {
   "attachments": {},
   "cell_type": "markdown",
   "metadata": {},
   "source": [
    "b) Construya un cuadro similar, pero con la asignación de probabilidades.<br>"
   ]
  },
  {
   "cell_type": "code",
   "execution_count": 4,
   "metadata": {},
   "outputs": [
    {
     "data": {
      "text/html": [
       "<div>\n",
       "<style scoped>\n",
       "    .dataframe tbody tr th:only-of-type {\n",
       "        vertical-align: middle;\n",
       "    }\n",
       "\n",
       "    .dataframe tbody tr th {\n",
       "        vertical-align: top;\n",
       "    }\n",
       "\n",
       "    .dataframe thead th {\n",
       "        text-align: right;\n",
       "    }\n",
       "</style>\n",
       "<table border=\"1\" class=\"dataframe\">\n",
       "  <thead>\n",
       "    <tr style=\"text-align: right;\">\n",
       "      <th></th>\n",
       "      <th>Region</th>\n",
       "      <th>SI</th>\n",
       "      <th>NO</th>\n",
       "    </tr>\n",
       "  </thead>\n",
       "  <tbody>\n",
       "    <tr>\n",
       "      <th>0</th>\n",
       "      <td>Norte</td>\n",
       "      <td>148</td>\n",
       "      <td>52</td>\n",
       "    </tr>\n",
       "    <tr>\n",
       "      <th>1</th>\n",
       "      <td>Noreste</td>\n",
       "      <td>162</td>\n",
       "      <td>54</td>\n",
       "    </tr>\n",
       "    <tr>\n",
       "      <th>2</th>\n",
       "      <td>Sur</td>\n",
       "      <td>296</td>\n",
       "      <td>74</td>\n",
       "    </tr>\n",
       "    <tr>\n",
       "      <th>3</th>\n",
       "      <td>Centro</td>\n",
       "      <td>252</td>\n",
       "      <td>48</td>\n",
       "    </tr>\n",
       "  </tbody>\n",
       "</table>\n",
       "</div>"
      ],
      "text/plain": [
       "    Region   SI  NO\n",
       "0    Norte  148  52\n",
       "1  Noreste  162  54\n",
       "2      Sur  296  74\n",
       "3   Centro  252  48"
      ]
     },
     "execution_count": 4,
     "metadata": {},
     "output_type": "execute_result"
    }
   ],
   "source": [
    "dF"
   ]
  },
  {
   "cell_type": "code",
   "execution_count": 21,
   "metadata": {},
   "outputs": [],
   "source": [
    "def probabilidades(df):\n",
    "    total = dF.SI.sum() + dF.NO.sum()\n",
    "    dF['Prob_SI'] = dF['SI'] / total\n",
    "    dF['Prob_NO'] = dF['NO'] / total\n",
    "     \n",
    "    return dF"
   ]
  },
  {
   "cell_type": "code",
   "execution_count": 22,
   "metadata": {},
   "outputs": [
    {
     "data": {
      "text/html": [
       "<div>\n",
       "<style scoped>\n",
       "    .dataframe tbody tr th:only-of-type {\n",
       "        vertical-align: middle;\n",
       "    }\n",
       "\n",
       "    .dataframe tbody tr th {\n",
       "        vertical-align: top;\n",
       "    }\n",
       "\n",
       "    .dataframe thead th {\n",
       "        text-align: right;\n",
       "    }\n",
       "</style>\n",
       "<table border=\"1\" class=\"dataframe\">\n",
       "  <thead>\n",
       "    <tr style=\"text-align: right;\">\n",
       "      <th></th>\n",
       "      <th>Region</th>\n",
       "      <th>SI</th>\n",
       "      <th>NO</th>\n",
       "      <th>Prob_SI</th>\n",
       "      <th>Prob_NO</th>\n",
       "    </tr>\n",
       "  </thead>\n",
       "  <tbody>\n",
       "    <tr>\n",
       "      <th>0</th>\n",
       "      <td>Norte</td>\n",
       "      <td>148</td>\n",
       "      <td>52</td>\n",
       "      <td>0.136280</td>\n",
       "      <td>0.047882</td>\n",
       "    </tr>\n",
       "    <tr>\n",
       "      <th>1</th>\n",
       "      <td>Noreste</td>\n",
       "      <td>162</td>\n",
       "      <td>54</td>\n",
       "      <td>0.149171</td>\n",
       "      <td>0.049724</td>\n",
       "    </tr>\n",
       "    <tr>\n",
       "      <th>2</th>\n",
       "      <td>Sur</td>\n",
       "      <td>296</td>\n",
       "      <td>74</td>\n",
       "      <td>0.272560</td>\n",
       "      <td>0.068140</td>\n",
       "    </tr>\n",
       "    <tr>\n",
       "      <th>3</th>\n",
       "      <td>Centro</td>\n",
       "      <td>252</td>\n",
       "      <td>48</td>\n",
       "      <td>0.232044</td>\n",
       "      <td>0.044199</td>\n",
       "    </tr>\n",
       "  </tbody>\n",
       "</table>\n",
       "</div>"
      ],
      "text/plain": [
       "    Region   SI  NO   Prob_SI   Prob_NO\n",
       "0    Norte  148  52  0.136280  0.047882\n",
       "1  Noreste  162  54  0.149171  0.049724\n",
       "2      Sur  296  74  0.272560  0.068140\n",
       "3   Centro  252  48  0.232044  0.044199"
      ]
     },
     "execution_count": 22,
     "metadata": {},
     "output_type": "execute_result"
    }
   ],
   "source": [
    "probabilidades(dF)"
   ]
  },
  {
   "cell_type": "code",
   "execution_count": 23,
   "metadata": {},
   "outputs": [
    {
     "data": {
      "text/plain": [
       "1.0"
      ]
     },
     "execution_count": 23,
     "metadata": {},
     "output_type": "execute_result"
    }
   ],
   "source": [
    "dF.Prob_SI.sum() + dF.Prob_NO.sum()"
   ]
  },
  {
   "cell_type": "code",
   "execution_count": 25,
   "metadata": {},
   "outputs": [
    {
     "data": {
      "text/plain": [
       "0.7900552486187845"
      ]
     },
     "execution_count": 25,
     "metadata": {},
     "output_type": "execute_result"
    }
   ],
   "source": [
    "dF['Prob_SI'].sum()"
   ]
  },
  {
   "cell_type": "code",
   "execution_count": 43,
   "metadata": {},
   "outputs": [],
   "source": [
    "def cartas(dato):\n",
    "    cartas = 52 ## numero de cartas\n",
    "    color  = 26 ## cantidad cartas color tanto rojo como negro\n",
    "    categoria = 13 ## 13 posibilidades AS, 2, 3, 4 ...\n",
    "    if (dato == 'rojo' or dato == 'negro'):\n",
    "        return color / cartas\n",
    "    elif dato in ('pica', 'trebol', 'corazon', 'diamante'):\n",
    "        return categoria / cartas\n",
    "    else:\n",
    "        print('No existe esa carta')"
   ]
  },
  {
   "cell_type": "code",
   "execution_count": 44,
   "metadata": {},
   "outputs": [
    {
     "data": {
      "text/plain": [
       "0.25"
      ]
     },
     "execution_count": 44,
     "metadata": {},
     "output_type": "execute_result"
    }
   ],
   "source": [
    "cartas('trebol')"
   ]
  },
  {
   "cell_type": "code",
   "execution_count": 45,
   "metadata": {},
   "outputs": [
    {
     "name": "stdout",
     "output_type": "stream",
     "text": [
      "E1: 0.4\n",
      "E2:  0.26\n",
      "E3: 0.34\n"
     ]
    }
   ],
   "source": [
    "## un experimento que tiene tres resultados es repetido 50 veces y se ve que E1 aparece 20 veces, \n",
    "# E2 13 veces y E3 17 veces. Asigne probabilidades a los resultados.\n",
    "\n",
    "cantidad_datos = 50\n",
    "e1 = 20\n",
    "e2 = 13\n",
    "e3 = 17\n",
    "\n",
    "p_e1 = e1 / cantidad_datos\n",
    "p_e2 = e2 / cantidad_datos\n",
    "p_e3 = e3 / cantidad_datos\n",
    "\n",
    "print(\"E1:\", p_e1)\n",
    "print(\"E2: \", p_e2)\n",
    "print(\"E3:\", p_e3)"
   ]
  },
  {
   "attachments": {},
   "cell_type": "markdown",
   "metadata": {},
   "source": [
    "Si la probabilidad de que un cliente pague en efectivo (E) es 6/15, con tarjeta de crédito (TD) es 7/15 y con tarjeta de débito (TD) es 2/15. Hallar la probabilidad de que dos clientes sucesivos que pagan sus cuentas lo hagan:\n",
    "\n",
    "a) el primero en efectivo y el segundo con tarjeta de crédito.\n",
    "\n",
    "b) Los dos clientes en efectivo"
   ]
  },
  {
   "cell_type": "code",
   "execution_count": 46,
   "metadata": {},
   "outputs": [],
   "source": [
    "Prob_E = 6/15\n",
    "Prob_C = 7/15\n",
    "Prob_D = 2/15"
   ]
  },
  {
   "cell_type": "code",
   "execution_count": 47,
   "metadata": {},
   "outputs": [
    {
     "data": {
      "text/plain": [
       "0.18666666666666668"
      ]
     },
     "execution_count": 47,
     "metadata": {},
     "output_type": "execute_result"
    }
   ],
   "source": [
    "Prob_E * Prob_C"
   ]
  },
  {
   "cell_type": "code",
   "execution_count": 48,
   "metadata": {},
   "outputs": [
    {
     "data": {
      "text/plain": [
       "0.16000000000000003"
      ]
     },
     "execution_count": 48,
     "metadata": {},
     "output_type": "execute_result"
    }
   ],
   "source": [
    "Prob_E * Prob_E"
   ]
  },
  {
   "attachments": {},
   "cell_type": "markdown",
   "metadata": {},
   "source": [
    "2. La probabilidad de que un Henry repruebe el M1 de 0.8, de que apruebe M2 es 0.5 y de que repruebe el M3 es de 0.4.<br>\n",
    " (Los eventos no interfieren entre si) <br>\n",
    "\n",
    "    Determinar la probabilidad de que:<br>\n",
    "    a) Apruebe un módulo.<br>\n",
    "    b) Repruebe las tres materias."
   ]
  },
  {
   "cell_type": "code",
   "execution_count": 52,
   "metadata": {},
   "outputs": [],
   "source": [
    "pRm1 = 0.8 ## probabilidad repruebe modulo 1\n",
    "pRm2 = 0.5 ## probabilidad repruebe modulo 2\n",
    "pRm3 = 0.4 ## probabilidad repruebe modulo 3"
   ]
  },
  {
   "cell_type": "code",
   "execution_count": 54,
   "metadata": {},
   "outputs": [],
   "source": [
    "pAm1 = 1 - pRm1 ## probabilidad apruebe modulo 1\n",
    "pAm2 = 1 - pRm2 ## probabilidad apruebe modulo 2\n",
    "pAm3 = 1 - pRm3 ## probabilidada apruebe modulo 3"
   ]
  },
  {
   "cell_type": "code",
   "execution_count": 55,
   "metadata": {},
   "outputs": [
    {
     "data": {
      "text/plain": [
       "1.2999999999999998"
      ]
     },
     "execution_count": 55,
     "metadata": {},
     "output_type": "execute_result"
    }
   ],
   "source": [
    "## a)\n",
    "pAm1 + pAm2 + pAm3"
   ]
  },
  {
   "cell_type": "code",
   "execution_count": 56,
   "metadata": {},
   "outputs": [
    {
     "data": {
      "text/plain": [
       "0.16000000000000003"
      ]
     },
     "execution_count": 56,
     "metadata": {},
     "output_type": "execute_result"
    }
   ],
   "source": [
    "## b)\n",
    "pRm1 * pRm2 * pRm3"
   ]
  }
 ],
 "metadata": {
  "kernelspec": {
   "display_name": "Python 3",
   "language": "python",
   "name": "python3"
  },
  "language_info": {
   "codemirror_mode": {
    "name": "ipython",
    "version": 3
   },
   "file_extension": ".py",
   "mimetype": "text/x-python",
   "name": "python",
   "nbconvert_exporter": "python",
   "pygments_lexer": "ipython3",
   "version": "3.11.1"
  },
  "orig_nbformat": 4,
  "vscode": {
   "interpreter": {
    "hash": "c2add6e69ce8512bc31365b658e10cbfaf78d0317c05b0a2cac7a34cd9db6954"
   }
  }
 },
 "nbformat": 4,
 "nbformat_minor": 2
}
