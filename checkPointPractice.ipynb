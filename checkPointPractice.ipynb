{
 "cells": [
  {
   "attachments": {},
   "cell_type": "markdown",
   "metadata": {},
   "source": [
    "### Responder Verdadero ó Falso\n",
    "\n",
    "1) Todas las métricas son KPI's<br>\n",
    "R = Falso"
   ]
  },
  {
   "attachments": {},
   "cell_type": "markdown",
   "metadata": {},
   "source": [
    "2) Un KPI es un indicador clave de rendimiento que ayuda a evaluar el valor actual el grado de cumplimiento de objetivo definido basándose en métricas.<br>\n",
    "R = Verdadero\n"
   ]
  },
  {
   "attachments": {},
   "cell_type": "markdown",
   "metadata": {},
   "source": [
    "### Elegir la opción correcta\n",
    "\n",
    "3) Para el Sector de Instalaciones de una empresa de Televisión por Cable, cual de estos indicadores puede representar un KPI?<br>\n",
    "\n",
    "    1- Gasto de publicidad en internet sobre ganancia adquirida para evaluar la efectividad de las campañas de marketing<br>\n",
    "    2- Cantidad de usuarios por central para evaluar la instalación de nuevas centrales<br>\n",
    "    3- Demora promedio en los tiempos de atención al cliente por el canal telefónico<br>\n",
    "\n",
    "    R = 2- Cantidad de usuarios por central para evaluar la instalación de nuevas centrales<br>"
   ]
  },
  {
   "attachments": {},
   "cell_type": "markdown",
   "metadata": {},
   "source": [
    "4) El espacio muestral es:<br>\n",
    "\n",
    "    1- El conjunto de todos los resultados posibles de un experimento.<br>\n",
    "    2- Una tabla con las distintas funciones de probabilidad.<br>\n",
    "    3- Un evento que puede describirse con una característica única.<br>\n",
    "\n",
    "    R = 1- El conjunto de todos los resultados posibles de un experimento"
   ]
  },
  {
   "attachments": {},
   "cell_type": "markdown",
   "metadata": {},
   "source": [
    "5) Dos sucesos son compatibles:<br>\n",
    "\n",
    "    1- Cuando pueden ocurrir al mismo tiempo.<br>\n",
    "    2- Cuando son mutuamente excluyentes.<br>\n",
    "    3- Cuando corresponden a un conjunto de eventos colectivamente exhaustivo.<br>\n",
    "\n",
    "    R = 1- Cuando pueden ocurrir al mismo tiempo.<br>"
   ]
  },
  {
   "attachments": {},
   "cell_type": "markdown",
   "metadata": {},
   "source": [
    "### Resuelve los siguientes ejercicios:<br>\n",
    "\n",
    "En tu motor de base de datos MySQL, ejecutá las instrucciones del script 'Checkpoint_Create_Insert.sql' (Si no trabajas con MySQL es posible que tengas que realizar algunos ajustes en el script. También están provistas las tablas en formato csv dentro de la carpeta 'tablas_cp').<br>\n",
    "\n",
    "Se crearan 3 tablas:<br>\n",
    "\n",
    "* venta:<br>\n",
    "* canal_venta<br>\n",
    "* producto<br>\n",
    "\n",
    "Una empresa de venta de productos tiene como objetivo hacer crecer su canal de ventas OnLine, por tal motivo la dirección se plantean algunas cuestiones para entender como va evolucionando el negocio<br>\n",
    "\n",
    "Contestar las siguientes preguntas, utilizando el DER y mysql:"
   ]
  },
  {
   "attachments": {},
   "cell_type": "markdown",
   "metadata": {},
   "source": [
    "6) ¿Cuál es el canal id del Producto cuyo nombre es EPSON COPYFAX 2000 ?"
   ]
  },
  {
   "attachments": {},
   "cell_type": "markdown",
   "metadata": {},
   "source": [
    "7) ¿Cuál es el canal de ventas con menor cantidad de ventas registradas?<br>\n",
    "\n",
    "    Pista: acordate de las funciones de agregacion AVG/SUM/MIN/MAX/COUNT<br>\n",
    "\n",
    "    1- OnLine<br>\n",
    "    2- Telefónica<br>\n",
    "    3- Presencial<br>"
   ]
  },
  {
   "attachments": {},
   "cell_type": "markdown",
   "metadata": {},
   "source": [
    "8) Cual fue el mes con mayor venta de la sucursal 13 para el año 2015 ?<br>\n",
    "\n",
    "    Pista para agrupar por mes podes usar el   DATE_FORMAT( date,'%Y%m') --> YYYYMM o  DATE_FORMAT( date,'%m') --> MM<br>\n",
    "\n",
    "    1- 9<br>\n",
    "    2- 3<br>\n",
    "    3- 12<br>\n",
    "    4- 2<br>\n",
    "    5- 8<br>"
   ]
  },
  {
   "attachments": {},
   "cell_type": "markdown",
   "metadata": {},
   "source": [
    "9) Se define el tiempo de entrega como el tiempo en días transcurrido entre que se realiza la compra y se efectua la entrega. Par analizar mejoras en el servicio, la dirección desea saber: cuál es el año con el promedio más alto de este tiempo de entrega. (Fecha = Fecha de venta; Fecha_Entrega = Fecha de entrega)<br>\n",
    "\n",
    "    Pista: acordate de las funciones de agregacion AVG/SUM/MIN/MAX"
   ]
  },
  {
   "attachments": {},
   "cell_type": "markdown",
   "metadata": {},
   "source": [
    "10) La dirección desea saber que tipo de producto tiene la mayor venta en 2020 (Tabla 'producto', campo Tipo = Tipo de producto)<br>\n",
    "\n",
    "    Pista: acordate de las funciones de agregacion AVG/SUM/MIN/MAX<br>\n",
    "\n",
    "    1- INFORMATICA<br>\n",
    "    2- ESTUCHERIA<br>\n",
    "    3- AUDIO<br>\n",
    "    4- IMPRESIÓN<br>\n",
    "    5- GABINETES<br>\n",
    "    6- GRABACION<br>\n",
    "    7- BASES<br>\n",
    "    8- GAMING<br>"
   ]
  },
  {
   "attachments": {},
   "cell_type": "markdown",
   "metadata": {},
   "source": [
    "11) ¿Cuál es el año y mes con la mayor cantidad de productos vendidos?<br>\n",
    "\n",
    "    Informar la respuesta con 4 digitos para el año y 2 para el mes\n",
    "\n",
    "    Por ejemplo 201506 seria Junio 2015\n",
    "\n",
    "    Pista para agrupar por mes podes usar el   DATE_FORMAT( date,'%Y%m') --> YYYYMM o  DATE_FORMAT( date,'%m') --> MM"
   ]
  },
  {
   "attachments": {},
   "cell_type": "markdown",
   "metadata": {},
   "source": [
    "12) ¿Cuantos productos tienen la palabra DVD en alguna parte de su nombre/concepto?"
   ]
  },
  {
   "attachments": {},
   "cell_type": "markdown",
   "metadata": {},
   "source": [
    "13) ¿Cual de estos tipos de producto, tiene la menor diferencia de precio entre sus minimos y maximos?<br>\n",
    "\n",
    "    1- GABINETES  \n",
    "    2- GAMING  \n",
    "    3- IMPRESIÓN"
   ]
  },
  {
   "attachments": {},
   "cell_type": "markdown",
   "metadata": {},
   "source": [
    "14) Teniendo en cuenta que Fecha es la fecha real de compra, y Fecha_Entrega es la fecha real que se entrego el producto. ¿Cuantas ventas NO se entregaron el mismo mes en que fueron compradas?<br>\n",
    "\n",
    "    Ejemplo\n",
    "\n",
    "    Venta |Fecha      | Fecha_Entrega\n",
    "\n",
    "    1    |2018-03-09 | 2018-03-25 --> Se entrego el mismo mes que fue hecha la venta\n",
    "\n",
    "    2    |2020-06-29 | 2020-07-01 --> No se entrego el mismo mes que la venta"
   ]
  },
  {
   "attachments": {},
   "cell_type": "markdown",
   "metadata": {},
   "source": [
    "15) Cual es el Id del empleado que mayor cantidad de productos vendio en toda la historia de las ventas?<br>\n",
    "\n",
    "    1- 3603<br>\n",
    "    2- 3504<br>\n",
    "    3- 1675<br>\n",
    "    4- 3186<br>"
   ]
  },
  {
   "cell_type": "code",
   "execution_count": 2,
   "metadata": {},
   "outputs": [],
   "source": [
    "from math import e, factorial"
   ]
  },
  {
   "attachments": {},
   "cell_type": "markdown",
   "metadata": {},
   "source": [
    "16) Si se colocan 5 canicas blancas y 5 canicas negras dentro de un frasco y luego, de manera aleatoria se quitan 2 seguidas ¿Cuál es la probabilidad de que ambas sean blancas?"
   ]
  },
  {
   "cell_type": "code",
   "execution_count": null,
   "metadata": {},
   "outputs": [],
   "source": [
    "def hipergeometrica(N, r, n, x):\n",
    "  rx = factorial(r)/(factorial(x) * factorial(r - x))\n",
    "  Nrnx = factorial(N - r)/(factorial(n - x) * factorial((N - r) - (n - x)))\n",
    "  Nn = factorial(N)/(factorial(n) * factorial(N - n))\n",
    "  probabilidad = (rx * Nrnx)/Nn\n",
    "\n",
    "  return probabilidad"
   ]
  },
  {
   "cell_type": "code",
   "execution_count": null,
   "metadata": {},
   "outputs": [],
   "source": [
    "## N poblacion total \n",
    "## r casos exitosos dentro de la poblacion\n",
    "## n muestra q yo tomo\n",
    "## x casos exitosos dentro de la muestra"
   ]
  },
  {
   "cell_type": "code",
   "execution_count": null,
   "metadata": {},
   "outputs": [],
   "source": [
    "hipergeometrica(10, , 2, 2)"
   ]
  },
  {
   "cell_type": "code",
   "execution_count": 3,
   "metadata": {},
   "outputs": [],
   "source": [
    "def binomial(k, n, p):\n",
    "  num_eventos = factorial(n) \n",
    "  num_exitos = factorial(k) * factorial(n - k) \n",
    "  exitos_fracaso=pow(p, k) * pow(1 - p, (n - k)) \n",
    "\n",
    "  probabilidad = (num_eventos / num_exitos) * exitos_fracaso \n",
    "\n",
    "  return probabilidad"
   ]
  },
  {
   "cell_type": "code",
   "execution_count": null,
   "metadata": {},
   "outputs": [],
   "source": [
    "## k veces q queremos calcular q ocurra el exito\n",
    "## n cantidad de ensayos realizados\n",
    "## p probabilidad de exito"
   ]
  },
  {
   "attachments": {},
   "cell_type": "markdown",
   "metadata": {},
   "source": [
    "17) Si se colocan 5 canicas blancas y 5 canicas negras dentro de un frasco y luego, de manera aleatoria se quitan 2 seguidas ¿Cuál es la probabilidad de que ambas sean de un mismo color?"
   ]
  },
  {
   "attachments": {},
   "cell_type": "markdown",
   "metadata": {},
   "source": [
    "18) Considerando un juego que consiste en acertar a la suma de la tirada de 2 dados, ¿cuál sería el valor de la suma más probable?"
   ]
  },
  {
   "attachments": {},
   "cell_type": "markdown",
   "metadata": {},
   "source": [
    "19) En una tramo de una autopista, pasan en promedio 2 camiones cada 5 minutos. ¿Cuál es la probabilidad de que en esos 5 minutos pasen más de 2 camiones?"
   ]
  },
  {
   "cell_type": "code",
   "execution_count": 5,
   "metadata": {},
   "outputs": [],
   "source": [
    "def poisson(lambda_, k): \n",
    "     probabilidad = (pow(e, -lambda_) * pow(lambda_, k)) / factorial(k)\n",
    "     \n",
    "     return probabilidad"
   ]
  },
  {
   "cell_type": "code",
   "execution_count": null,
   "metadata": {},
   "outputs": [],
   "source": [
    "## lambda promedio de exitos, es necesario convertir a las unidades objetivo, ejemplo / hrs a min \n",
    "## k veces q queremos calcular q ocurra el exito, numero de exitos"
   ]
  },
  {
   "cell_type": "code",
   "execution_count": 7,
   "metadata": {},
   "outputs": [
    {
     "data": {
      "text/plain": [
       "0.8820859275160042"
      ]
     },
     "execution_count": 7,
     "metadata": {},
     "output_type": "execute_result"
    }
   ],
   "source": [
    "1 - (poisson(5, 1) + poisson(5, 2 ))"
   ]
  },
  {
   "attachments": {},
   "cell_type": "markdown",
   "metadata": {},
   "source": [
    "20) En una ciudad, la probabilidad de lluvia cualquier día, es de 0.2, ¿cuál es la probabilidad de que en esa ciudad, llueva durante 2 días seguidos?"
   ]
  },
  {
   "cell_type": "code",
   "execution_count": 8,
   "metadata": {},
   "outputs": [
    {
     "data": {
      "text/plain": [
       "0.04000000000000001"
      ]
     },
     "execution_count": 8,
     "metadata": {},
     "output_type": "execute_result"
    }
   ],
   "source": [
    "binomial(2, 2, 0.2)"
   ]
  },
  {
   "cell_type": "code",
   "execution_count": 9,
   "metadata": {},
   "outputs": [
    {
     "data": {
      "text/plain": [
       "0.016374615061559638"
      ]
     },
     "execution_count": 9,
     "metadata": {},
     "output_type": "execute_result"
    }
   ],
   "source": [
    "poisson(0.2, 2)"
   ]
  }
 ],
 "metadata": {
  "kernelspec": {
   "display_name": "Python 3",
   "language": "python",
   "name": "python3"
  },
  "language_info": {
   "codemirror_mode": {
    "name": "ipython",
    "version": 3
   },
   "file_extension": ".py",
   "mimetype": "text/x-python",
   "name": "python",
   "nbconvert_exporter": "python",
   "pygments_lexer": "ipython3",
   "version": "3.11.1"
  },
  "orig_nbformat": 4
 },
 "nbformat": 4,
 "nbformat_minor": 2
}
